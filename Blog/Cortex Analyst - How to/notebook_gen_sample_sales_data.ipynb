{
 "metadata": {
  "language_info": {
   "name": "python"
  },
  "lastEditStatus": {
   "notebookId": "e2ajovglhvhpezgwrbcz",
   "authorId": "5214792880750",
   "authorName": "AWS_US_WEST_ZTS_DAANALYTICS",
   "authorEmail": "cloud@daanalytics.nl",
   "sessionId": "af597f8a-5a87-4e30-80bd-0c2a3c0e9b28",
   "lastEditTime": 1737639811352
  }
 },
 "nbformat_minor": 2,
 "nbformat": 4,
 "cells": [
  {
   "cell_type": "code",
   "execution_count": null,
   "metadata": {
    "name": "python_packages",
    "language": "python",
    "collapsed": false,
    "resultHeight": 0
   },
   "outputs": [],
   "source": "import modin.pandas as pd\nimport numpy as np\nimport snowflake.snowpark.modin.plugin\nimport random\nfrom faker import Faker\nfrom snowflake.snowpark.context import get_active_session",
   "id": "ce110000-1111-2222-3333-ffffff000000"
  },
  {
   "cell_type": "markdown",
   "metadata": {
    "name": "title_snowflake_connection",
    "resultHeight": 45
   },
   "source": [
    "### Helper Functions: Snowflake Connection"
   ],
   "id": "ce110000-1111-2222-3333-ffffff000001"
  },
  {
   "cell_type": "code",
   "id": "ce110000-1111-2222-3333-ffffff000002",
   "metadata": {
    "language": "python",
    "name": "snowflake_session",
    "collapsed": false,
    "resultHeight": 103
   },
   "outputs": [],
   "source": "# Automatically get the active Snowflake session\nsession = get_active_session()\n\n# Display session details\ndetails = {\n    \"Database\": session.get_current_database(),\n    \"Schema\": session.get_current_schema(),\n    \"Role\": session.get_current_role(),\n    \"Warehouse\": session.get_current_warehouse()\n}\n\nfor key, value in details.items():\n    print(f\"{key}: {value}\")",
   "execution_count": null
  },
  {
   "cell_type": "markdown",
   "metadata": {
    "name": "title_data_generators",
    "resultHeight": 45,
    "collapsed": false
   },
   "source": [
    "### Helper Functions: Data Generators"
   ],
   "id": "ce110000-1111-2222-3333-ffffff000003"
  },
  {
   "cell_type": "code",
   "execution_count": null,
   "metadata": {
    "name": "faker_functions",
    "language": "python",
    "collapsed": false,
    "resultHeight": 0
   },
   "outputs": [],
   "source": "fake = Faker()\n\ndef generate_customers(num):\n    customers = []\n    for i in range(1, num + 1):\n        customers.append({\n            'customer_id': i,\n            'first_name': fake.first_name(),\n            'last_name': fake.last_name(),\n            'email': fake.email(),\n            'phone_number': fake.phone_number(),\n            'birth_date': fake.date_of_birth(minimum_age=18, maximum_age=80),\n            'country': fake.country(),\n            'city': fake.city(),\n            'gender': random.choice(['M', 'F', 'Other']),\n        })\n    return pd.DataFrame(customers)\n\ndef generate_stores(num):\n    stores = []\n    for i in range(1, num + 1):\n        stores.append({\n            'store_id': i,\n            'store_name': fake.company(),\n            'region': fake.state(),\n            'country': fake.country(),\n            'store_type': random.choice(['Urban', 'Suburban', 'Rural']),\n        })\n    return pd.DataFrame(stores)\n\ndef generate_products(num):\n    products = []\n    for i in range(1, num + 1):\n        products.append({\n            'product_id': i,\n            'product_name': fake.word(),\n            'category': random.choice(['Electronics', 'Clothing', 'Groceries', 'Home Appliances', 'Toys']),\n            'brand': fake.company(),\n            'price': round(random.uniform(5.0, 500.0), 2),\n        })\n    return pd.DataFrame(products)\n\ndef generate_time_dimension(years_back):\n    today = pd.Timestamp.today()\n    start_date = today - pd.DateOffset(years=years_back)\n    dates = pd.date_range(start=start_date, end=today)\n    time_dim = []\n    for i, date in enumerate(dates):\n        time_dim.append({\n            'date_id': i + 1,\n            'date': date.date(),\n            'year': date.year,\n            'month': date.month,\n            'day': date.day,\n            'weekday': date.strftime('%A'),\n            'quarter': (date.month - 1) // 3 + 1,\n            'is_weekend': date.weekday() >= 5,\n        })\n    return pd.DataFrame(time_dim)\n\ndef generate_sales_fact(num_sales, customers, stores, products, time_dim):\n    # Convert columns to NumPy arrays for efficient sampling\n    date_ids = time_dim['DATE_ID'].to_numpy()\n    customer_ids = customers['CUSTOMER_ID'].to_numpy()\n    store_ids = stores['STORE_ID'].to_numpy()\n    product_ids = products['PRODUCT_ID'].to_numpy()\n\n    # Pre-sample all IDs\n    sampled_customer_ids = np.random.choice(customer_ids, size=num_sales, replace=True)\n    sampled_store_ids = np.random.choice(store_ids, size=num_sales, replace=True)\n    sampled_product_ids = np.random.choice(product_ids, size=num_sales, replace=True)\n    sampled_date_ids = np.random.choice(date_ids, size=num_sales, replace=True)\n    sampled_quantities = np.random.randint(1, 11, size=num_sales)  # Quantities between 1 and 10\n    sampled_amounts = np.random.uniform(10.0, 1000.0, size=num_sales).round(2)  # Random amounts\n\n    # Create the sales fact DataFrame\n    sales_fact = pd.DataFrame({\n        'sale_id': [fake.uuid4() for _ in range(num_sales)],\n        'date_id': sampled_date_ids,\n        'customer_id': sampled_customer_ids,\n        'store_id': sampled_store_ids,\n        'product_id': sampled_product_ids,\n        'quantity': sampled_quantities,\n        'total_amount': sampled_amounts\n    })\n    return sales_fact",
   "id": "ce110000-1111-2222-3333-ffffff000004"
  },
  {
   "cell_type": "markdown",
   "metadata": {
    "name": "title_table_data",
    "resultHeight": 45
   },
   "source": [
    "### Create Snowflake Tables and Write Data"
   ],
   "id": "ce110000-1111-2222-3333-ffffff000005"
  },
  {
   "cell_type": "code",
   "id": "55dde73e-4e35-4c44-beeb-f377478a9371",
   "metadata": {
    "language": "python",
    "name": "create_customer_data",
    "collapsed": false,
    "resultHeight": 437
   },
   "outputs": [],
   "source": "# Automatically get the active Snowflake session\nsession = get_active_session()\n\nnum_customers = 1000\n\n# Generate data\ncustomers = generate_customers(num_customers)\n\n# Convert columns to uppercase\ncustomers.columns = customers.columns.str.upper()\n\n# Write directly to Snowflake using Modin\nsession.write_pandas(customers, \"CUSTOMERS\", auto_create_table=True, overwrite=True)",
   "execution_count": null
  },
  {
   "cell_type": "code",
   "id": "3a5ed368-525f-4d58-a335-23cf2ceec821",
   "metadata": {
    "language": "python",
    "name": "create_store_data",
    "collapsed": false,
    "resultHeight": 437
   },
   "outputs": [],
   "source": "# Automatically get the active Snowflake session\nsession = get_active_session()\n\nnum_stores = 100\n\n# Generate data\nstores = generate_stores(num_stores)\n\n# Convert columns to uppercase\nstores.columns = stores.columns.str.upper()\n\n# Write directly to Snowflake using Modin\nsession.write_pandas(stores, \"STORES\", auto_create_table=True, overwrite=True)",
   "execution_count": null
  },
  {
   "cell_type": "code",
   "id": "2dc28fd3-0eb5-4c75-a77f-cedb87652a59",
   "metadata": {
    "language": "python",
    "name": "create_product_data",
    "collapsed": false,
    "resultHeight": 437
   },
   "outputs": [],
   "source": "# Automatically get the active Snowflake session\nsession = get_active_session()\n\nnum_products = 500\n\n# Generate data\nproducts = generate_products(num_products)\n\n# Convert columns to uppercase\nproducts.columns = products.columns.str.upper()\n\n# Write directly to Snowflake using Modin\nsession.write_pandas(products, \"PRODUCTS\", auto_create_table=True, overwrite=True)",
   "execution_count": null
  },
  {
   "cell_type": "code",
   "id": "4ec65009-6a5f-44fd-b3b7-59c7cb07583d",
   "metadata": {
    "language": "python",
    "name": "create_time_dimension",
    "collapsed": false,
    "resultHeight": 437
   },
   "outputs": [],
   "source": "# Automatically get the active Snowflake session\nsession = get_active_session()\n\nyears_back = 5\n\n# Generate data\ntime_dim = generate_time_dimension(years_back)\n\n# Convert columns to uppercase\ntime_dim.columns = time_dim.columns.str.upper()\n\n# Write directly to Snowflake using Modin\nsession.write_pandas(time_dim, \"TIME_DIMENSION\", auto_create_table=True, overwrite=True)",
   "execution_count": null
  },
  {
   "cell_type": "code",
   "execution_count": null,
   "metadata": {
    "name": "create_sales_fact",
    "language": "python",
    "collapsed": false,
    "resultHeight": 437
   },
   "outputs": [],
   "source": "# Automatically get the active Snowflake session\nsession = get_active_session()\n\nnum_sales = 200000\n\n# Generate data\nsales_fact = generate_sales_fact(num_sales, customers, stores, products, time_dim)\n\n# Convert columns to uppercase\nsales_fact.columns = sales_fact.columns.str.upper()\n\n# Write directly to Snowflake using Modin\nsession.write_pandas(sales_fact, \"SALES_FACT\", auto_create_table=True, overwrite=True)",
   "id": "ce110000-1111-2222-3333-ffffff000006"
  }
 ]
}