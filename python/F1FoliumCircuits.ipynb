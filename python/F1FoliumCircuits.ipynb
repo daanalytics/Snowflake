{
 "cells": [
  {
   "cell_type": "markdown",
   "metadata": {},
   "source": [
    "![Plotting F1 Circuit Locations into a Map using Folium](https://github.com/daanalytics/Snowflake/blob/master/pictures/Plotting_F1_Circuit_Locations_into_a_Map_using_Folium.png?raw=true \"Plotting F1 Circuit Locations into a Map using Folium\") \n",
    "\n",
    "\n"
   ]
  },
  {
   "cell_type": "markdown",
   "metadata": {},
   "source": [
    "## Plotting F1 Circuit Locations into a map using Folium\n",
    "\n",
    "This Notebook is a continuation of a previous [blogpost](https://daanalytics.nl/loading-f1-historical-data-into-snowflake-using-the-ergast-developer-api/) where I started loading F1 Data into Snowflake ❄️ using the Ergast API. Next up is plotting this data on a map using [Folium](https://github.com/python-visualization/folium). Folium is a Python library used for visualizing Geospatial Data. *\"It builds on the data wrangling strengths of the Python ecosystem and the mapping strengths of the Leaflet.js library. Manipulate your data in Python, then visualize it in a Leaflet map via folium.\"*\n",
    "\n",
    "Follow the steps below to get things started.\n",
    "\n",
    "- I use an [Anaconda](https://www.anaconda.com) environment from where I have started Jupyter Lab.\n",
    "- Next install all the necessary library's\n",
    "- Import necessary library's\n",
    "- Create a function to get a Continent based on the Country and \n",
    "- Create a function to define the marker color based on the Continent\n",
    "- Setting up a Snowflake connection\n",
    "- After setting the connection to Snowflake it's time to connect to the database, verify the connection and get the data out of the Circuits-table\n",
    "- Convert the Data output to a Pandas Data Frame so we can plot this Data on a Folium Map\n",
    "- Create the Folium Map. In this example 3 different variants:\n",
    "    - World Map\n",
    "    - Continent Map (Europe)\n",
    "    - Country Map (France)\n"
   ]
  },
  {
   "cell_type": "markdown",
   "metadata": {},
   "source": [
    "### Importing necessary library's\n",
    "\n",
    "First install (if missing in the environment) and import all necessary library's.  "
   ]
  },
  {
   "cell_type": "code",
   "execution_count": null,
   "metadata": {},
   "outputs": [],
   "source": [
    "!pip install snowflake-connector-python # Connect to Snowflake\n",
    "!pip install folium # Create the Geospatial Map\n",
    "!pip install pycountry_convert # Get Continent based on Country"
   ]
  },
  {
   "cell_type": "code",
   "execution_count": null,
   "metadata": {},
   "outputs": [],
   "source": [
    "import pandas as pd # Creating Data Frames\n",
    "import snowflake.connector # Connect to Snowflake\n",
    "import json # Read the Snowflake Credential File\n",
    "import folium # Create the Geospatial Map\n",
    "import pycountry_convert as pc # Get Continent based on Country"
   ]
  },
  {
   "cell_type": "markdown",
   "metadata": {},
   "source": [
    "### Create functions\n",
    "\n",
    "Create functions to get a Continent based on the Country and to define the marker color based on the Continent."
   ]
  },
  {
   "cell_type": "code",
   "execution_count": null,
   "metadata": {},
   "outputs": [],
   "source": [
    "# Get Continent based on Country\n",
    "def country_convert(country_name):\n",
    "    \n",
    "    try:\n",
    "\n",
    "        country_code = pc.country_name_to_country_alpha2(country_name, cn_name_format='default')\n",
    "  \n",
    "        continent_name = pc.country_alpha2_to_continent_code(country_code)\n",
    "\n",
    "        return pc.convert_continent_code_to_continent_name(continent_name)\n",
    "\n",
    "    except (KeyError, TypeError):    \n",
    "    \n",
    "        return (country_name)\n",
    "\n",
    "# Base color on Continent \n",
    "# 'darkblue', 'white', 'lightblue', 'pink', 'gray', 'green', 'orange', 'darkred', 'black', 'blue', 'cadetblue'\n",
    "#, 'lightgreen', 'purple', 'darkgreen', 'red', 'beige', 'lightred', 'darkpurple', 'lightgray'\n",
    "\n",
    "## 'Oceania', 'Asia', 'Europe', 'North America', 'UK', 'South America', 'UAE',\n",
    "## 'Africa', 'Korea'\n",
    "\n",
    "# Define the marker color based on the continent\n",
    "def marker_color(continent_name):\n",
    "    if continent_name == 'Asia':   \n",
    "        color = 'pink'\n",
    "    elif continent_name == 'Africa':   \n",
    "        color = 'green'\n",
    "    elif continent_name == 'Europe':   \n",
    "        color = 'blue'\n",
    "    elif continent_name == 'North America':   \n",
    "        color = 'red'\n",
    "    elif continent_name == 'South America':   \n",
    "        color = 'orange'\n",
    "    elif continent_name == 'Oceania':   \n",
    "        color = 'purple' \n",
    "    elif  continent_name == 'UK':   \n",
    "        color = 'beige'     \n",
    "    elif  continent_name == 'UAE':   \n",
    "        color = 'lightgreen'      \n",
    "    elif  continent_name == 'Korea':   \n",
    "        color = 'cadetblue'       \n",
    "    else:\n",
    "        color = 'grey'\n",
    "    return color    "
   ]
  },
  {
   "cell_type": "markdown",
   "metadata": {},
   "source": [
    "### Connecting to Snowflake\n",
    "\n",
    "Setup the connection to Snowflake and verify whether this connection works. After that, connect to the database and schema where the Circuits-table resides. Finally select the F1-circuits."
   ]
  },
  {
   "cell_type": "code",
   "execution_count": null,
   "metadata": {},
   "outputs": [],
   "source": [
    "# Setting up Snowflake connection \n",
    "conn_location = '<CONN_LOC>'\n",
    "\n",
    "connect = json.loads(open(str(conn_location + '/F1cred.json')).read())\n",
    "\n",
    "username    = connect['secrets']['username']\n",
    "password    = connect['secrets']['password']\n",
    "account     = connect['secrets']['account']\n",
    "role        = connect['secrets']['role']\n",
    "\n",
    "# Connect to Snowflake\n",
    "\n",
    "conn = snowflake.connector.connect(\n",
    "    user        = username,\n",
    "    password    = password,\n",
    "    account     = account,\n",
    "    role        = role\n",
    "    )"
   ]
  },
  {
   "cell_type": "code",
   "execution_count": null,
   "metadata": {},
   "outputs": [],
   "source": [
    "# Show connected user\n",
    "conn.cursor().execute(\"SELECT CURRENT_USER()\")\n"
   ]
  },
  {
   "cell_type": "code",
   "execution_count": null,
   "metadata": {},
   "outputs": [],
   "source": [
    "# Connect to DEMO_DB database\n",
    "demo_db = connect['secrets']['database'].upper()\n",
    "conn.cursor().execute(\"USE DATABASE \" + demo_db)"
   ]
  },
  {
   "cell_type": "code",
   "execution_count": null,
   "metadata": {},
   "outputs": [],
   "source": [
    "# Connect to PRE_F1PY schema\n",
    "f1_pre_schema = 'PRE_F1PY'\n",
    "\n",
    "conn.cursor().execute(\"USE SCHEMA \" + f1_pre_schema)\n",
    "\n",
    "# Select Query F1 Circuits\n",
    "\n",
    "sql_f1_circuits = \"\"\"select replace(name, '\"','') as name\n",
    "                     ,      lat\n",
    "                     ,      lng\n",
    "                     ,      replace(country, '\"','') as country\n",
    "                     ,      replace(url, '\"','') as url\n",
    "                     from   demo_db.pre_f1py.pre_f1py_circuits\n",
    "                  \"\"\""
   ]
  },
  {
   "cell_type": "code",
   "execution_count": null,
   "metadata": {},
   "outputs": [],
   "source": [
    "# Query F1 Circuits\n",
    "cursor = conn.cursor()\n",
    "cursor.execute(sql_f1_circuits)"
   ]
  },
  {
   "cell_type": "markdown",
   "metadata": {},
   "source": [
    "### Creating Folium Maps\n",
    "\n",
    "Create the Folium Map. In this example 3 different variants:\n",
    "\n",
    "- World Map\n",
    "- Continent Map (Europe)\n",
    "- Country Map (France)"
   ]
  },
  {
   "cell_type": "code",
   "execution_count": null,
   "metadata": {},
   "outputs": [],
   "source": [
    "# Convert Query output to a DataFrame\n",
    "df_f1_circuits = cursor.fetch_pandas_all()\n",
    "\n",
    "# Add Continent to df_f1_circuits DataFrame\n",
    "df_f1_circuits['CONTINENT'] = df_f1_circuits['COUNTRY'].apply(country_convert)\n",
    "\n",
    "df_f1_circuits.head()\n",
    "print(df_f1_circuits['CONTINENT'].unique())"
   ]
  },
  {
   "cell_type": "markdown",
   "metadata": {},
   "source": [
    "#### World Map"
   ]
  },
  {
   "cell_type": "code",
   "execution_count": null,
   "metadata": {},
   "outputs": [],
   "source": [
    "# Creating the Folium Map \n",
    "CircuitsMap = folium.Map(location=[df_f1_circuits.LAT.mean(), df_f1_circuits.LNG.mean()], zoom_start=2, control_scale=True, tiles='openstreetmap')\n",
    "\n",
    "# Adding Tile Layers\n",
    "folium.TileLayer('openstreetmap').add_to(CircuitsMap)\n",
    "folium.TileLayer('cartodb positron').add_to(CircuitsMap)\n",
    "folium.TileLayer('stamenterrain').add_to(CircuitsMap)\n",
    "folium.TileLayer('stamentoner').add_to(CircuitsMap)\n",
    "folium.TileLayer('stamenwatercolor').add_to(CircuitsMap)\n",
    "folium.TileLayer('cartodbdark_matter').add_to(CircuitsMap)\n",
    "\n",
    "# Other mapping code (e.g. lines, markers etc.)\n",
    "folium.LayerControl().add_to(CircuitsMap)\n",
    "\n",
    "for index, location_info in df_f1_circuits.iterrows():\n",
    "    folium.Marker([location_info[\"LAT\"], location_info[\"LNG\"]], popup='<a href=' + location_info[\"URL\"] + ' target=\"_blank\">' + location_info[\"NAME\"] + '</a>', icon=folium.Icon(icon_color='white', icon=\"car\", prefix='fa', color=marker_color(location_info[\"CONTINENT\"]))).add_to(CircuitsMap)   \n"
   ]
  },
  {
   "cell_type": "code",
   "execution_count": null,
   "metadata": {},
   "outputs": [],
   "source": [
    "CircuitsMap"
   ]
  },
  {
   "cell_type": "markdown",
   "metadata": {},
   "source": [
    "#### Continent Map (Europe)"
   ]
  },
  {
   "cell_type": "code",
   "execution_count": null,
   "metadata": {},
   "outputs": [],
   "source": [
    "# Filter df_f1_circuits DataFrame on 'Europe' Continent\n",
    "df_f1_eur_circuits = df_f1_circuits.loc[df_f1_circuits['CONTINENT'] == 'Europe']\n",
    "\n",
    "df_f1_eur_circuits.head()"
   ]
  },
  {
   "cell_type": "code",
   "execution_count": null,
   "metadata": {},
   "outputs": [],
   "source": [
    "# Creating the Continent Folium Map \n",
    "CircuitsContinentMap = folium.Map(location=[df_f1_eur_circuits.LAT.mean(), df_f1_eur_circuits.LNG.mean()], zoom_start=5, control_scale=True, tiles='openstreetmap')\n",
    "\n",
    "# Adding Tile Layers\n",
    "folium.TileLayer('openstreetmap').add_to(CircuitsContinentMap)\n",
    "folium.TileLayer('cartodb positron').add_to(CircuitsContinentMap)\n",
    "folium.TileLayer('stamenterrain').add_to(CircuitsContinentMap)\n",
    "folium.TileLayer('stamentoner').add_to(CircuitsContinentMap)\n",
    "folium.TileLayer('stamenwatercolor').add_to(CircuitsContinentMap)\n",
    "folium.TileLayer('cartodbdark_matter').add_to(CircuitsContinentMap)\n",
    "\n",
    "# Other mapping code (e.g. lines, markers etc.)\n",
    "folium.LayerControl().add_to(CircuitsContinentMap)\n",
    "\n",
    "for index, location_info in df_f1_eur_circuits.iterrows():\n",
    "    folium.Marker([location_info[\"LAT\"], location_info[\"LNG\"]], popup='<a href=' + location_info[\"URL\"] + ' target=\"_blank\">' + location_info[\"NAME\"] + '</a>', icon=folium.Icon(icon_color='white', icon=\"car\", prefix='fa', color=marker_color(location_info[\"CONTINENT\"]))).add_to(CircuitsContinentMap)   \n"
   ]
  },
  {
   "cell_type": "code",
   "execution_count": null,
   "metadata": {},
   "outputs": [],
   "source": [
    "CircuitsContinentMap"
   ]
  },
  {
   "cell_type": "markdown",
   "metadata": {},
   "source": [
    "#### Country Map (France)"
   ]
  },
  {
   "cell_type": "code",
   "execution_count": null,
   "metadata": {},
   "outputs": [],
   "source": [
    "# Filter df_f1_circuits DataFrame on Country\n",
    "df_f1_country_circuits = df_f1_circuits.loc[df_f1_circuits['COUNTRY'] == 'France']\n",
    "\n",
    "df_f1_country_circuits.head()"
   ]
  },
  {
   "cell_type": "code",
   "execution_count": null,
   "metadata": {},
   "outputs": [],
   "source": [
    "# Creating the Country Folium Map \n",
    "CircuitsCountryMap = folium.Map(location=[df_f1_country_circuits.LAT.mean(), df_f1_country_circuits.LNG.mean()], zoom_start=5, control_scale=True, tiles='openstreetmap')\n",
    "\n",
    "# Adding Tile Layers\n",
    "folium.TileLayer('openstreetmap').add_to(CircuitsCountryMap)\n",
    "folium.TileLayer('cartodb positron').add_to(CircuitsCountryMap)\n",
    "folium.TileLayer('stamenterrain').add_to(CircuitsCountryMap)\n",
    "folium.TileLayer('stamentoner').add_to(CircuitsCountryMap)\n",
    "folium.TileLayer('stamenwatercolor').add_to(CircuitsCountryMap)\n",
    "folium.TileLayer('cartodbdark_matter').add_to(CircuitsCountryMap)\n",
    "\n",
    "# Other mapping code (e.g. lines, markers etc.)\n",
    "folium.LayerControl().add_to(CircuitsCountryMap)\n",
    "\n",
    "for index, location_info in df_f1_country_circuits.iterrows():\n",
    "    folium.Marker([location_info[\"LAT\"], location_info[\"LNG\"]], popup='<a href=' + location_info[\"URL\"] + ' target=\"_blank\">' + location_info[\"NAME\"] + '</a>', icon=folium.Icon(icon_color='white', icon=\"car\", prefix='fa', color='darkgreen')).add_to(CircuitsCountryMap)   \n"
   ]
  },
  {
   "cell_type": "code",
   "execution_count": null,
   "metadata": {},
   "outputs": [],
   "source": [
    "CircuitsCountryMap"
   ]
  },
  {
   "cell_type": "markdown",
   "metadata": {},
   "source": [
    "### Closing Statements\n",
    "\n",
    "This example provided the steps to plot F1 Circuit Locations into a map using Folium; a Python library used for visualizing Geospatial Data. Please check it out and let me know what you think. In a next example I will covert this code into a [Streamlit](https://streamlit.io) Application.\n",
    "\n",
    "Till next time.\n",
    "\n",
    "[Daan Bakboord – DaAnalytics](https://www.linkedin.com/in/daanbakboord)"
   ]
  }
 ],
 "metadata": {
  "interpreter": {
   "hash": "fb76030ab9b5a58622f8cbd14031ba34b4b88f756e76875255a77a63e7280869"
  },
  "kernelspec": {
   "display_name": "Python 3 (ipykernel)",
   "language": "python",
   "name": "python3"
  },
  "language_info": {
   "codemirror_mode": {
    "name": "ipython",
    "version": 3
   },
   "file_extension": ".py",
   "mimetype": "text/x-python",
   "name": "python",
   "nbconvert_exporter": "python",
   "pygments_lexer": "ipython3",
   "version": "3.8.13"
  }
 },
 "nbformat": 4,
 "nbformat_minor": 4
}
